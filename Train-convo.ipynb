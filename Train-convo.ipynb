{
 "cells": [
  {
   "cell_type": "code",
   "execution_count": 3,
   "metadata": {
    "ExecuteTime": {
     "end_time": "2020-05-24T23:37:06.451145Z",
     "start_time": "2020-05-24T23:37:06.432816Z"
    }
   },
   "outputs": [],
   "source": [
    "import matplotlib.pyplot as plt\n",
    "import numpy as np\n",
    "from PIL import Image\n",
    "import torch\n",
    "import torch.nn as nn\n",
    "import torch.optim as optim\n",
    "import torchvision\n",
    "%matplotlib inline\n",
    "import torchvision.transforms as transforms\n",
    "from torchvision.utils import save_image\n",
    "from torch.utils.data import Dataset, DataLoader\n",
    "from tqdm import tqdm\n",
    "from torch.autograd import Variable\n",
    "import os\n",
    "import pandas as pd "
   ]
  },
  {
   "cell_type": "code",
   "execution_count": 4,
   "metadata": {
    "ExecuteTime": {
     "end_time": "2020-05-24T23:37:07.023419Z",
     "start_time": "2020-05-24T23:37:07.017993Z"
    }
   },
   "outputs": [],
   "source": [
    "seed = 42\n",
    "torch.manual_seed(seed)\n",
    "torch.backends.cudnn.benchmark = False\n",
    "torch.backends.cudnn.deterministic = True\n",
    "batch_size = 128\n",
    "epochs = 300\n",
    "learning_rate = 0.001"
   ]
  },
  {
   "cell_type": "code",
   "execution_count": 6,
   "metadata": {
    "ExecuteTime": {
     "end_time": "2020-05-24T23:38:22.479227Z",
     "start_time": "2020-05-24T23:38:22.449164Z"
    }
   },
   "outputs": [],
   "source": [
    "labels = pd.read_csv('/datasets_1/sagarj/satellite/training_6_cities/all_cities_imagelet_labels.csv')"
   ]
  },
  {
   "cell_type": "code",
   "execution_count": 8,
   "metadata": {
    "ExecuteTime": {
     "end_time": "2020-05-24T23:38:52.631082Z",
     "start_time": "2020-05-24T23:38:52.612828Z"
    }
   },
   "outputs": [
    {
     "data": {
      "text/html": [
       "<div>\n",
       "<style scoped>\n",
       "    .dataframe tbody tr th:only-of-type {\n",
       "        vertical-align: middle;\n",
       "    }\n",
       "\n",
       "    .dataframe tbody tr th {\n",
       "        vertical-align: top;\n",
       "    }\n",
       "\n",
       "    .dataframe thead th {\n",
       "        text-align: right;\n",
       "    }\n",
       "</style>\n",
       "<table border=\"1\" class=\"dataframe\">\n",
       "  <thead>\n",
       "    <tr style=\"text-align: right;\">\n",
       "      <th></th>\n",
       "      <th>Unnamed: 0</th>\n",
       "      <th>imagelet</th>\n",
       "      <th>city</th>\n",
       "      <th>label_activity_density</th>\n",
       "    </tr>\n",
       "  </thead>\n",
       "  <tbody>\n",
       "    <tr>\n",
       "      <th>0</th>\n",
       "      <td>0</td>\n",
       "      <td>S2A_MSIL2A_20170802T101031_N0205_R022_T32TPQ_2...</td>\n",
       "      <td>bologna</td>\n",
       "      <td>-1</td>\n",
       "    </tr>\n",
       "    <tr>\n",
       "      <th>1</th>\n",
       "      <td>1</td>\n",
       "      <td>S2A_MSIL2A_20170802T101031_N0205_R022_T32TPQ_2...</td>\n",
       "      <td>bologna</td>\n",
       "      <td>-1</td>\n",
       "    </tr>\n",
       "    <tr>\n",
       "      <th>2</th>\n",
       "      <td>2</td>\n",
       "      <td>S2A_MSIL2A_20170802T101031_N0205_R022_T32TPQ_2...</td>\n",
       "      <td>bologna</td>\n",
       "      <td>-1</td>\n",
       "    </tr>\n",
       "    <tr>\n",
       "      <th>3</th>\n",
       "      <td>3</td>\n",
       "      <td>S2A_MSIL2A_20170802T101031_N0205_R022_T32TPQ_2...</td>\n",
       "      <td>bologna</td>\n",
       "      <td>-1</td>\n",
       "    </tr>\n",
       "    <tr>\n",
       "      <th>4</th>\n",
       "      <td>4</td>\n",
       "      <td>S2A_MSIL2A_20170802T101031_N0205_R022_T32TPQ_2...</td>\n",
       "      <td>bologna</td>\n",
       "      <td>-1</td>\n",
       "    </tr>\n",
       "    <tr>\n",
       "      <th>...</th>\n",
       "      <td>...</td>\n",
       "      <td>...</td>\n",
       "      <td>...</td>\n",
       "      <td>...</td>\n",
       "    </tr>\n",
       "    <tr>\n",
       "      <th>7859</th>\n",
       "      <td>835</td>\n",
       "      <td>S2A_MSIL2A_20180712T095031_N0208_R079_T33SUC_2...</td>\n",
       "      <td>palermo</td>\n",
       "      <td>-1</td>\n",
       "    </tr>\n",
       "    <tr>\n",
       "      <th>7860</th>\n",
       "      <td>836</td>\n",
       "      <td>S2A_MSIL2A_20180712T095031_N0208_R079_T33SUC_2...</td>\n",
       "      <td>palermo</td>\n",
       "      <td>-1</td>\n",
       "    </tr>\n",
       "    <tr>\n",
       "      <th>7861</th>\n",
       "      <td>837</td>\n",
       "      <td>S2A_MSIL2A_20180712T095031_N0208_R079_T33SUC_2...</td>\n",
       "      <td>palermo</td>\n",
       "      <td>-1</td>\n",
       "    </tr>\n",
       "    <tr>\n",
       "      <th>7862</th>\n",
       "      <td>838</td>\n",
       "      <td>S2A_MSIL2A_20180712T095031_N0208_R079_T33SUC_2...</td>\n",
       "      <td>palermo</td>\n",
       "      <td>-1</td>\n",
       "    </tr>\n",
       "    <tr>\n",
       "      <th>7863</th>\n",
       "      <td>839</td>\n",
       "      <td>S2A_MSIL2A_20180712T095031_N0208_R079_T33SUC_2...</td>\n",
       "      <td>palermo</td>\n",
       "      <td>2</td>\n",
       "    </tr>\n",
       "  </tbody>\n",
       "</table>\n",
       "<p>7864 rows × 4 columns</p>\n",
       "</div>"
      ],
      "text/plain": [
       "      Unnamed: 0                                           imagelet     city  \\\n",
       "0              0  S2A_MSIL2A_20170802T101031_N0205_R022_T32TPQ_2...  bologna   \n",
       "1              1  S2A_MSIL2A_20170802T101031_N0205_R022_T32TPQ_2...  bologna   \n",
       "2              2  S2A_MSIL2A_20170802T101031_N0205_R022_T32TPQ_2...  bologna   \n",
       "3              3  S2A_MSIL2A_20170802T101031_N0205_R022_T32TPQ_2...  bologna   \n",
       "4              4  S2A_MSIL2A_20170802T101031_N0205_R022_T32TPQ_2...  bologna   \n",
       "...          ...                                                ...      ...   \n",
       "7859         835  S2A_MSIL2A_20180712T095031_N0208_R079_T33SUC_2...  palermo   \n",
       "7860         836  S2A_MSIL2A_20180712T095031_N0208_R079_T33SUC_2...  palermo   \n",
       "7861         837  S2A_MSIL2A_20180712T095031_N0208_R079_T33SUC_2...  palermo   \n",
       "7862         838  S2A_MSIL2A_20180712T095031_N0208_R079_T33SUC_2...  palermo   \n",
       "7863         839  S2A_MSIL2A_20180712T095031_N0208_R079_T33SUC_2...  palermo   \n",
       "\n",
       "      label_activity_density  \n",
       "0                         -1  \n",
       "1                         -1  \n",
       "2                         -1  \n",
       "3                         -1  \n",
       "4                         -1  \n",
       "...                      ...  \n",
       "7859                      -1  \n",
       "7860                      -1  \n",
       "7861                      -1  \n",
       "7862                      -1  \n",
       "7863                       2  \n",
       "\n",
       "[7864 rows x 4 columns]"
      ]
     },
     "execution_count": 8,
     "metadata": {},
     "output_type": "execute_result"
    }
   ],
   "source": [
    "labels"
   ]
  },
  {
   "cell_type": "code",
   "execution_count": 9,
   "metadata": {
    "ExecuteTime": {
     "end_time": "2020-05-24T23:39:14.975895Z",
     "start_time": "2020-05-24T23:39:14.968381Z"
    }
   },
   "outputs": [
    {
     "data": {
      "text/plain": [
       "5850"
      ]
     },
     "execution_count": 9,
     "metadata": {},
     "output_type": "execute_result"
    }
   ],
   "source": [
    "len(labels[labels['label_activity_density'] == -1])"
   ]
  },
  {
   "cell_type": "code",
   "execution_count": null,
   "metadata": {},
   "outputs": [],
   "source": []
  }
 ],
 "metadata": {
  "kernelspec": {
   "display_name": "Python [conda env:root] *",
   "language": "python",
   "name": "conda-root-py"
  },
  "language_info": {
   "codemirror_mode": {
    "name": "ipython",
    "version": 3
   },
   "file_extension": ".py",
   "mimetype": "text/x-python",
   "name": "python",
   "nbconvert_exporter": "python",
   "pygments_lexer": "ipython3",
   "version": "3.7.0"
  }
 },
 "nbformat": 4,
 "nbformat_minor": 2
}
