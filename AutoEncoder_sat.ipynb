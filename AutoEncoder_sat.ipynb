{
 "cells": [
  {
   "cell_type": "code",
   "execution_count": 1,
   "metadata": {
    "ExecuteTime": {
     "end_time": "2020-05-25T00:39:24.747360Z",
     "start_time": "2020-05-25T00:39:24.438276Z"
    }
   },
   "outputs": [],
   "source": [
    "import matplotlib.pyplot as plt\n",
    "import numpy as np\n",
    "from PIL import Image\n",
    "import torch\n",
    "import torch.nn as nn\n",
    "import torch.optim as optim\n",
    "import torchvision\n",
    "%matplotlib inline\n",
    "import torchvision.transforms as transforms\n",
    "from torchvision.utils import save_image\n",
    "from torch.utils.data import Dataset, DataLoader\n",
    "from tqdm import tqdm\n",
    "from torch.autograd import Variable\n",
    "import os"
   ]
  },
  {
   "cell_type": "code",
   "execution_count": 2,
   "metadata": {
    "ExecuteTime": {
     "end_time": "2020-05-25T00:39:24.767006Z",
     "start_time": "2020-05-25T00:39:24.762275Z"
    }
   },
   "outputs": [],
   "source": [
    "seed = 42\n",
    "torch.manual_seed(seed)\n",
    "torch.backends.cudnn.benchmark = False\n",
    "torch.backends.cudnn.deterministic = True\n",
    "batch_size = 128\n",
    "epochs = 300\n",
    "learning_rate = 0.001"
   ]
  },
  {
   "cell_type": "code",
   "execution_count": 3,
   "metadata": {
    "ExecuteTime": {
     "end_time": "2020-05-25T00:39:25.288703Z",
     "start_time": "2020-05-25T00:39:25.286258Z"
    }
   },
   "outputs": [],
   "source": [
    "if not os.path.exists('./dc_img'):\n",
    "    os.mkdir('./dc_img')"
   ]
  },
  {
   "cell_type": "code",
   "execution_count": 4,
   "metadata": {
    "ExecuteTime": {
     "end_time": "2020-05-25T00:39:25.874354Z",
     "start_time": "2020-05-25T00:39:25.870733Z"
    }
   },
   "outputs": [],
   "source": [
    "\n",
    "\n",
    "\n",
    "def load_dataset():\n",
    "    data_path = '/datasets_1/sagarj/satellite/training_6_cities/'\n",
    "    train_dataset = torchvision.datasets.ImageFolder(\n",
    "        root=data_path,\n",
    "        transform=transforms.Compose([\n",
    "        transforms.Resize((64,64)),\n",
    "        transforms.ToTensor(),\n",
    "    ])\n",
    "    )\n",
    "    train_loader = torch.utils.data.DataLoader(\n",
    "        train_dataset,\n",
    "        batch_size=batch_size,\n",
    "        num_workers=0,\n",
    "        shuffle=True\n",
    "    )\n",
    "    return train_loader"
   ]
  },
  {
   "cell_type": "code",
   "execution_count": 5,
   "metadata": {
    "ExecuteTime": {
     "end_time": "2020-05-25T00:39:26.309140Z",
     "start_time": "2020-05-25T00:39:26.302734Z"
    }
   },
   "outputs": [],
   "source": [
    "def to_img(x):\n",
    "    x = x.view(x.size(0), 3, 64, 64)\n",
    "    return x"
   ]
  },
  {
   "cell_type": "code",
   "execution_count": 6,
   "metadata": {
    "ExecuteTime": {
     "end_time": "2020-05-25T00:39:26.749025Z",
     "start_time": "2020-05-25T00:39:26.730304Z"
    }
   },
   "outputs": [],
   "source": [
    "class autoencoder(nn.Module):\n",
    "    def __init__(self):\n",
    "        super(autoencoder, self).__init__()\n",
    "        \n",
    "        self.encoder = nn.Sequential( # like the Composition layer you built\n",
    "            nn.Conv2d(3, 16, 5, stride=1, padding=1),\n",
    "            nn.ReLU(),\n",
    "            nn.MaxPool2d(2, stride=1),\n",
    "            nn.BatchNorm2d(16),\n",
    "            \n",
    "            nn.Conv2d(16, 32, 7, stride=1, padding=1),\n",
    "            nn.ReLU(),\n",
    "            nn.MaxPool2d(2, stride=1),\n",
    "            nn.BatchNorm2d(32),\n",
    "            \n",
    "            nn.Conv2d(32, 32, 7,stride=2,padding=1),\n",
    "            nn.ReLU(),\n",
    "            nn.BatchNorm2d(32),\n",
    "            nn.MaxPool2d(2, stride=1),\n",
    "            \n",
    "            nn.Conv2d(32, 32, 9,stride=2,padding=1),\n",
    "            nn.ReLU(),\n",
    "            nn.BatchNorm2d(32),\n",
    "            \n",
    "            nn.Conv2d(32, 32, 9,stride=1,padding=1),\n",
    "            nn.ReLU(),\n",
    "            nn.BatchNorm2d(32)\n",
    "        )\n",
    "        self.decoder = nn.Sequential(\n",
    "            nn.ConvTranspose2d(32, 32, 9,stride=1,padding=1),\n",
    "            nn.ReLU(),\n",
    "            nn.ConvTranspose2d(32, 32, 9,stride=2,padding=1,output_padding=1),\n",
    "            nn.ReLU(),\n",
    "            nn.ConvTranspose2d(32, 32, 7,stride=2,padding=1,output_padding=1),\n",
    "            nn.ReLU(),\n",
    "            nn.ConvTranspose2d(32, 16, 7, stride=1, padding=1),\n",
    "            nn.ReLU(),\n",
    "            nn.ConvTranspose2d(16, 3, 5, stride=1, padding=0),\n",
    "            nn.Sigmoid()\n",
    "        )\n",
    "        \n",
    "#         self.encoder_fc = nn.Sequential(#a set of FC layers\n",
    "#             nn.Linear(batch_size*64*10*10, 512),\n",
    "#             nn.ReLU(True),\n",
    "#         )\n",
    "        \n",
    "#         self.decoder_fc = nn.Sequential(\n",
    "#             nn.Linear(512,batch_size*64*10*10),\n",
    "#             nn.ReLU(True),\n",
    "#         )\n",
    "        \n",
    "       \n",
    "\n",
    "    def forward(self, x , compressed = False):\n",
    "        #encode\n",
    "        x_comp = self.encoder(x) \n",
    "#         shape = x_comp.shape\n",
    "#         x_comp = self.encoder_fc(x_comp.flatten())\n",
    "#         print(x_comp.size())\n",
    "        #decode\n",
    "#         x_recon = self.decoder_fc(x_comp)\n",
    "#         x_recon = x_recon.reshape(shape)\n",
    "        x_recon = self.decoder(x_comp)\n",
    "#         print(x_recon.size())\n",
    "        \n",
    "        if compressed:\n",
    "            return x_comp.detach() , x_recon\n",
    "        else:\n",
    "            return x_recon"
   ]
  },
  {
   "cell_type": "code",
   "execution_count": 7,
   "metadata": {
    "ExecuteTime": {
     "end_time": "2020-05-25T00:39:31.205272Z",
     "start_time": "2020-05-25T00:39:27.311576Z"
    }
   },
   "outputs": [],
   "source": [
    "model = autoencoder().cuda()\n",
    "criterion = nn.MSELoss()\n",
    "# criterion = nn.CrossEntropyLoss()\n",
    "optimizer = torch.optim.Adam(model.parameters(), lr=learning_rate, weight_decay=1e-4)"
   ]
  },
  {
   "cell_type": "code",
   "execution_count": 8,
   "metadata": {
    "ExecuteTime": {
     "end_time": "2020-05-25T00:39:31.242013Z",
     "start_time": "2020-05-25T00:39:31.206730Z"
    }
   },
   "outputs": [],
   "source": [
    "dataloader = load_dataset()"
   ]
  },
  {
   "cell_type": "code",
   "execution_count": 9,
   "metadata": {
    "ExecuteTime": {
     "end_time": "2020-05-25T00:39:31.245200Z",
     "start_time": "2020-05-25T00:39:31.243418Z"
    }
   },
   "outputs": [],
   "source": [
    "# dataloader.sampler.data_source.samples"
   ]
  },
  {
   "cell_type": "code",
   "execution_count": 10,
   "metadata": {
    "ExecuteTime": {
     "end_time": "2020-05-25T00:39:31.471874Z",
     "start_time": "2020-05-25T00:39:31.246446Z"
    }
   },
   "outputs": [
    {
     "name": "stdout",
     "output_type": "stream",
     "text": [
      "<PIL.JpegImagePlugin.JpegImageFile image mode=RGB size=64x64 at 0x7EFCBBD66A20>\n"
     ]
    },
    {
     "data": {
      "image/png": "[encoded data removed]",
      "text/plain": [
       "<Figure size 432x288 with 1 Axes>"
      ]
     },
     "metadata": {
      "needs_background": "light"
     },
     "output_type": "display_data"
    }
   ],
   "source": [
    "len(dataloader.dataset)\n",
    "with open(dataloader.sampler.data_source.samples[1][0], 'rb') as f:\n",
    "    img = Image.open(f)\n",
    "    plt.grid()\n",
    "    plt.imshow(img)\n",
    "    print(img)"
   ]
  },
  {
   "cell_type": "code",
   "execution_count": 16,
   "metadata": {
    "ExecuteTime": {
     "end_time": "2020-05-25T08:19:08.752842Z",
     "start_time": "2020-05-25T08:17:58.105617Z"
    }
   },
   "outputs": [
    {
     "name": "stdout",
     "output_type": "stream",
     "text": [
      "epoch [1/300], loss:0.0139\n",
      "epoch [2/300], loss:0.0144\n",
      "epoch [3/300], loss:0.0149\n",
      "epoch [4/300], loss:0.0145\n",
      "epoch [5/300], loss:0.0155\n",
      "epoch [6/300], loss:0.0148\n",
      "epoch [7/300], loss:0.0163\n",
      "epoch [8/300], loss:0.0152\n",
      "epoch [9/300], loss:0.0140\n",
      "epoch [10/300], loss:0.0138\n"
     ]
    }
   ],
   "source": [
    "for epoch in range(10):\n",
    "    for data in dataloader:\n",
    "        img, _ = data\n",
    "        img = Variable(img).cuda()\n",
    "#         print(img.shape)\n",
    "        # ===================forward=====================\n",
    "        output = model(img)\n",
    "        loss = criterion(output, img)\n",
    "        # ===================backward====================\n",
    "        optimizer.zero_grad()\n",
    "        loss.backward()\n",
    "        optimizer.step()\n",
    "    # ===================log========================\n",
    "    print('epoch [{}/{}], loss:{:.4f}'\n",
    "          .format(epoch+1, epochs, loss.data))\n",
    "    if epoch % 10 == 0:\n",
    "        pic = to_img(output.cpu().data)\n",
    "        save_image(pic, './dc_img/image_{}.jpg'.format(epoch))"
   ]
  },
  {
   "cell_type": "code",
   "execution_count": 17,
   "metadata": {
    "ExecuteTime": {
     "end_time": "2020-05-25T08:19:13.404321Z",
     "start_time": "2020-05-25T08:19:13.393134Z"
    }
   },
   "outputs": [],
   "source": [
    "torch.save(model.state_dict(), './conv_autoencoder_trained_on_sentinel_512.pth')"
   ]
  },
  {
   "cell_type": "code",
   "execution_count": 27,
   "metadata": {
    "ExecuteTime": {
     "end_time": "2020-05-25T08:24:32.763228Z",
     "start_time": "2020-05-25T08:24:32.601110Z"
    }
   },
   "outputs": [
    {
     "ename": "TypeError",
     "evalue": "'JpegImageFile' object does not support indexing",
     "output_type": "error",
     "traceback": [
      "\u001b[0;31m---------------------------------------------------------------------------\u001b[0m",
      "\u001b[0;31mTypeError\u001b[0m                                 Traceback (most recent call last)",
      "\u001b[0;32m<ipython-input-27-556d1e8edc90>\u001b[0m in \u001b[0;36m<module>\u001b[0;34m\u001b[0m\n\u001b[0;32m----> 1\u001b[0;31m \u001b[0mmodel\u001b[0m\u001b[0;34m.\u001b[0m\u001b[0mforward\u001b[0m\u001b[0;34m(\u001b[0m\u001b[0mimg\u001b[0m\u001b[0;34m[\u001b[0m\u001b[0;36m1\u001b[0m\u001b[0;34m]\u001b[0m\u001b[0;34m.\u001b[0m\u001b[0munsqueeze\u001b[0m\u001b[0;34m(\u001b[0m\u001b[0;36m0\u001b[0m\u001b[0;34m)\u001b[0m\u001b[0;34m)\u001b[0m\u001b[0;34m.\u001b[0m\u001b[0mcpu\u001b[0m\u001b[0;34m(\u001b[0m\u001b[0;34m)\u001b[0m\u001b[0;34m\u001b[0m\u001b[0m\n\u001b[0m",
      "\u001b[0;31mTypeError\u001b[0m: 'JpegImageFile' object does not support indexing"
     ]
    }
   ],
   "source": [
    "model.forward(img[1].unsqueeze(0)).cpu()"
   ]
  },
  {
   "cell_type": "code",
   "execution_count": 14,
   "metadata": {
    "ExecuteTime": {
     "end_time": "2020-05-25T01:19:03.068233Z",
     "start_time": "2020-05-25T01:19:03.066365Z"
    }
   },
   "outputs": [],
   "source": [
    "# model = autoencoder().cuda()\n",
    "# model.load_state_dict(torch.load('./conv_autoencoder_trained_on_sentinel_small.pth'))\n",
    "# model.eval()"
   ]
  },
  {
   "cell_type": "code",
   "execution_count": 19,
   "metadata": {
    "ExecuteTime": {
     "end_time": "2020-05-25T08:19:27.125807Z",
     "start_time": "2020-05-25T08:19:27.069350Z"
    }
   },
   "outputs": [],
   "source": [
    "from glob import glob\n",
    "Sat_Images = glob('/datasets_1/sagarj/satellite/training_6_cities/*/*.jpg')"
   ]
  },
  {
   "cell_type": "code",
   "execution_count": 29,
   "metadata": {
    "ExecuteTime": {
     "end_time": "2020-05-25T08:26:53.318395Z",
     "start_time": "2020-05-25T08:26:35.468833Z"
    }
   },
   "outputs": [
    {
     "name": "stderr",
     "output_type": "stream",
     "text": [
      "  0%|          | 28/8416 [00:00<00:30, 274.16it/s]"
     ]
    },
    {
     "name": "stdout",
     "output_type": "stream",
     "text": [
      "Extracting features from %d images 8416\n"
     ]
    },
    {
     "name": "stderr",
     "output_type": "stream",
     "text": [
      "100%|██████████| 8416/8416 [00:17<00:00, 471.85it/s]\n"
     ]
    }
   ],
   "source": [
    "#Storage dictionary\n",
    "scaler = transforms.Resize((64, 64))\n",
    "to_tensor = transforms.ToTensor()\n",
    "features = {'imageName':[] , 'feature':[]}\n",
    "model.eval()\n",
    "print(\"Extracting features from %d images\",len(Sat_Images))\n",
    "for i in tqdm(range(len(Sat_Images))):\n",
    "    name = Sat_Images[i].split('/')[-1]\n",
    "    img = Image.open(Sat_Images[i])  \n",
    "    t_img = Variable(to_tensor(scaler(img))).unsqueeze(0).cuda() \n",
    "    code , gen_X = model.forward(t_img , compressed = True)\n",
    "    \n",
    "    features['imageName'].append(name)\n",
    "    features['feature'].append(code.detach().cpu().numpy().squeeze().flatten())"
   ]
  },
  {
   "cell_type": "code",
   "execution_count": 30,
   "metadata": {
    "ExecuteTime": {
     "end_time": "2020-05-25T08:26:54.193860Z",
     "start_time": "2020-05-25T08:26:54.187500Z"
    }
   },
   "outputs": [],
   "source": [
    "import pandas as pd \n",
    "Italy_features = pd.DataFrame.from_dict(features)"
   ]
  },
  {
   "cell_type": "code",
   "execution_count": 31,
   "metadata": {
    "ExecuteTime": {
     "end_time": "2020-05-25T08:26:54.695189Z",
     "start_time": "2020-05-25T08:26:54.690620Z"
    }
   },
   "outputs": [
    {
     "data": {
      "text/plain": [
       "512"
      ]
     },
     "execution_count": 31,
     "metadata": {},
     "output_type": "execute_result"
    }
   ],
   "source": [
    "len(Italy_features.iloc[1]['feature'])"
   ]
  },
  {
   "cell_type": "code",
   "execution_count": 32,
   "metadata": {
    "ExecuteTime": {
     "end_time": "2020-05-25T08:26:55.314108Z",
     "start_time": "2020-05-25T08:26:55.278872Z"
    }
   },
   "outputs": [
    {
     "data": {
      "text/html": [
       "<div>\n",
       "<style scoped>\n",
       "    .dataframe tbody tr th:only-of-type {\n",
       "        vertical-align: middle;\n",
       "    }\n",
       "\n",
       "    .dataframe tbody tr th {\n",
       "        vertical-align: top;\n",
       "    }\n",
       "\n",
       "    .dataframe thead th {\n",
       "        text-align: right;\n",
       "    }\n",
       "</style>\n",
       "<table border=\"1\" class=\"dataframe\">\n",
       "  <thead>\n",
       "    <tr style=\"text-align: right;\">\n",
       "      <th></th>\n",
       "      <th>imageName</th>\n",
       "      <th>feature</th>\n",
       "    </tr>\n",
       "  </thead>\n",
       "  <tbody>\n",
       "    <tr>\n",
       "      <th>0</th>\n",
       "      <td>S2B_MSIL2A_20181024T102059_N0209_R065_T32TLQ_2...</td>\n",
       "      <td>[-0.49638134, 0.112570934, -0.030250652, -0.12...</td>\n",
       "    </tr>\n",
       "    <tr>\n",
       "      <th>1</th>\n",
       "      <td>S2B_MSIL2A_20181024T102059_N0209_R065_T32TLQ_2...</td>\n",
       "      <td>[1.0101085, -0.38798743, -0.21142615, 0.184020...</td>\n",
       "    </tr>\n",
       "    <tr>\n",
       "      <th>2</th>\n",
       "      <td>S2B_MSIL2A_20181024T102059_N0209_R065_T32TLQ_2...</td>\n",
       "      <td>[1.7322872, -0.09343558, -0.83630687, 0.064558...</td>\n",
       "    </tr>\n",
       "    <tr>\n",
       "      <th>3</th>\n",
       "      <td>S2B_MSIL2A_20181024T102059_N0209_R065_T32TLQ_2...</td>\n",
       "      <td>[1.0732123, 0.75754523, -0.2863385, -0.2867083...</td>\n",
       "    </tr>\n",
       "    <tr>\n",
       "      <th>4</th>\n",
       "      <td>S2B_MSIL2A_20181024T102059_N0209_R065_T32TLQ_2...</td>\n",
       "      <td>[-0.11289966, 0.526387, 0.3751173, 0.3424982, ...</td>\n",
       "    </tr>\n",
       "    <tr>\n",
       "      <th>...</th>\n",
       "      <td>...</td>\n",
       "      <td>...</td>\n",
       "    </tr>\n",
       "    <tr>\n",
       "      <th>8411</th>\n",
       "      <td>S2A_MSIL2A_20181023T100051_N0209_R122_T32TQM_2...</td>\n",
       "      <td>[1.8884357, 1.2368355, 0.3333782, -0.5551255, ...</td>\n",
       "    </tr>\n",
       "    <tr>\n",
       "      <th>8412</th>\n",
       "      <td>S2A_MSIL2A_20181023T100051_N0209_R122_T32TQM_2...</td>\n",
       "      <td>[0.784602, 0.7548764, 0.32152185, -0.8440884, ...</td>\n",
       "    </tr>\n",
       "    <tr>\n",
       "      <th>8413</th>\n",
       "      <td>S2A_MSIL2A_20181023T100051_N0209_R122_T32TQM_2...</td>\n",
       "      <td>[-0.91861683, -0.70486397, -0.25862882, 0.3019...</td>\n",
       "    </tr>\n",
       "    <tr>\n",
       "      <th>8414</th>\n",
       "      <td>S2A_MSIL2A_20181023T100051_N0209_R122_T32TQM_2...</td>\n",
       "      <td>[-0.54376346, 0.78654414, -0.013742484, 0.2077...</td>\n",
       "    </tr>\n",
       "    <tr>\n",
       "      <th>8415</th>\n",
       "      <td>S2A_MSIL2A_20181023T100051_N0209_R122_T32TQM_2...</td>\n",
       "      <td>[0.80252373, 0.2540389, 0.19286479, 0.06225070...</td>\n",
       "    </tr>\n",
       "  </tbody>\n",
       "</table>\n",
       "<p>8416 rows × 2 columns</p>\n",
       "</div>"
      ],
      "text/plain": [
       "                                              imageName  \\\n",
       "0     S2B_MSIL2A_20181024T102059_N0209_R065_T32TLQ_2...   \n",
       "1     S2B_MSIL2A_20181024T102059_N0209_R065_T32TLQ_2...   \n",
       "2     S2B_MSIL2A_20181024T102059_N0209_R065_T32TLQ_2...   \n",
       "3     S2B_MSIL2A_20181024T102059_N0209_R065_T32TLQ_2...   \n",
       "4     S2B_MSIL2A_20181024T102059_N0209_R065_T32TLQ_2...   \n",
       "...                                                 ...   \n",
       "8411  S2A_MSIL2A_20181023T100051_N0209_R122_T32TQM_2...   \n",
       "8412  S2A_MSIL2A_20181023T100051_N0209_R122_T32TQM_2...   \n",
       "8413  S2A_MSIL2A_20181023T100051_N0209_R122_T32TQM_2...   \n",
       "8414  S2A_MSIL2A_20181023T100051_N0209_R122_T32TQM_2...   \n",
       "8415  S2A_MSIL2A_20181023T100051_N0209_R122_T32TQM_2...   \n",
       "\n",
       "                                                feature  \n",
       "0     [-0.49638134, 0.112570934, -0.030250652, -0.12...  \n",
       "1     [1.0101085, -0.38798743, -0.21142615, 0.184020...  \n",
       "2     [1.7322872, -0.09343558, -0.83630687, 0.064558...  \n",
       "3     [1.0732123, 0.75754523, -0.2863385, -0.2867083...  \n",
       "4     [-0.11289966, 0.526387, 0.3751173, 0.3424982, ...  \n",
       "...                                                 ...  \n",
       "8411  [1.8884357, 1.2368355, 0.3333782, -0.5551255, ...  \n",
       "8412  [0.784602, 0.7548764, 0.32152185, -0.8440884, ...  \n",
       "8413  [-0.91861683, -0.70486397, -0.25862882, 0.3019...  \n",
       "8414  [-0.54376346, 0.78654414, -0.013742484, 0.2077...  \n",
       "8415  [0.80252373, 0.2540389, 0.19286479, 0.06225070...  \n",
       "\n",
       "[8416 rows x 2 columns]"
      ]
     },
     "execution_count": 32,
     "metadata": {},
     "output_type": "execute_result"
    }
   ],
   "source": [
    "Italy_features"
   ]
  },
  {
   "cell_type": "code",
   "execution_count": 33,
   "metadata": {
    "ExecuteTime": {
     "end_time": "2020-05-25T08:27:00.387796Z",
     "start_time": "2020-05-25T08:26:56.011387Z"
    }
   },
   "outputs": [],
   "source": [
    "Italy_features.to_json('6cities_AEC_512_flattened.json')"
   ]
  },
  {
   "cell_type": "code",
   "execution_count": 34,
   "metadata": {
    "ExecuteTime": {
     "end_time": "2020-05-25T08:27:29.349010Z",
     "start_time": "2020-05-25T08:27:06.097754Z"
    }
   },
   "outputs": [
    {
     "name": "stdout",
     "output_type": "stream",
     "text": [
      "                                                          f0        f1  \\\n",
      "imageName                                                                \n",
      "S2B_MSIL2A_20181024T102059_N0209_R065_T32TLQ_20... -0.496381  0.112571   \n",
      "S2B_MSIL2A_20181024T102059_N0209_R065_T32TLQ_20...  1.010108 -0.387987   \n",
      "S2B_MSIL2A_20181024T102059_N0209_R065_T32TLQ_20...  1.732287 -0.093436   \n",
      "S2B_MSIL2A_20181024T102059_N0209_R065_T32TLQ_20...  1.073212  0.757545   \n",
      "S2B_MSIL2A_20181024T102059_N0209_R065_T32TLQ_20... -0.112900  0.526387   \n",
      "\n",
      "                                                          f2        f3  \\\n",
      "imageName                                                                \n",
      "S2B_MSIL2A_20181024T102059_N0209_R065_T32TLQ_20... -0.030251 -0.123284   \n",
      "S2B_MSIL2A_20181024T102059_N0209_R065_T32TLQ_20... -0.211426  0.184020   \n",
      "S2B_MSIL2A_20181024T102059_N0209_R065_T32TLQ_20... -0.836307  0.064559   \n",
      "S2B_MSIL2A_20181024T102059_N0209_R065_T32TLQ_20... -0.286339 -0.286708   \n",
      "S2B_MSIL2A_20181024T102059_N0209_R065_T32TLQ_20...  0.375117  0.342498   \n",
      "\n",
      "                                                          f4        f5  \\\n",
      "imageName                                                                \n",
      "S2B_MSIL2A_20181024T102059_N0209_R065_T32TLQ_20...  0.703130 -0.070491   \n",
      "S2B_MSIL2A_20181024T102059_N0209_R065_T32TLQ_20...  0.296754 -0.418171   \n",
      "S2B_MSIL2A_20181024T102059_N0209_R065_T32TLQ_20...  0.543359 -0.422334   \n",
      "S2B_MSIL2A_20181024T102059_N0209_R065_T32TLQ_20...  0.548572  1.194730   \n",
      "S2B_MSIL2A_20181024T102059_N0209_R065_T32TLQ_20... -0.211750 -0.093130   \n",
      "\n",
      "                                                          f6        f7  \\\n",
      "imageName                                                                \n",
      "S2B_MSIL2A_20181024T102059_N0209_R065_T32TLQ_20...  0.878122  0.755675   \n",
      "S2B_MSIL2A_20181024T102059_N0209_R065_T32TLQ_20... -0.782730 -0.464985   \n",
      "S2B_MSIL2A_20181024T102059_N0209_R065_T32TLQ_20... -0.410983  0.276887   \n",
      "S2B_MSIL2A_20181024T102059_N0209_R065_T32TLQ_20...  0.102032  0.025435   \n",
      "S2B_MSIL2A_20181024T102059_N0209_R065_T32TLQ_20... -0.064435  0.165801   \n",
      "\n",
      "                                                          f8        f9  ...  \\\n",
      "imageName                                                               ...   \n",
      "S2B_MSIL2A_20181024T102059_N0209_R065_T32TLQ_20...  0.581308  0.457584  ...   \n",
      "S2B_MSIL2A_20181024T102059_N0209_R065_T32TLQ_20... -0.975288  0.767334  ...   \n",
      "S2B_MSIL2A_20181024T102059_N0209_R065_T32TLQ_20...  0.913876 -0.485638  ...   \n",
      "S2B_MSIL2A_20181024T102059_N0209_R065_T32TLQ_20...  0.485988  0.177587  ...   \n",
      "S2B_MSIL2A_20181024T102059_N0209_R065_T32TLQ_20... -0.163306 -0.276949  ...   \n",
      "\n",
      "                                                        f502      f503  \\\n",
      "imageName                                                                \n",
      "S2B_MSIL2A_20181024T102059_N0209_R065_T32TLQ_20...  0.000003  0.000003   \n",
      "S2B_MSIL2A_20181024T102059_N0209_R065_T32TLQ_20...  0.000003  0.000003   \n",
      "S2B_MSIL2A_20181024T102059_N0209_R065_T32TLQ_20...  0.000003  0.000003   \n",
      "S2B_MSIL2A_20181024T102059_N0209_R065_T32TLQ_20...  0.000003  0.000003   \n",
      "S2B_MSIL2A_20181024T102059_N0209_R065_T32TLQ_20...  0.000003  0.000003   \n",
      "\n",
      "                                                        f504      f505  \\\n",
      "imageName                                                                \n",
      "S2B_MSIL2A_20181024T102059_N0209_R065_T32TLQ_20...  0.000003  0.000003   \n",
      "S2B_MSIL2A_20181024T102059_N0209_R065_T32TLQ_20...  0.000003  0.000003   \n",
      "S2B_MSIL2A_20181024T102059_N0209_R065_T32TLQ_20...  0.000003  0.000003   \n",
      "S2B_MSIL2A_20181024T102059_N0209_R065_T32TLQ_20...  0.000003  0.000003   \n",
      "S2B_MSIL2A_20181024T102059_N0209_R065_T32TLQ_20...  0.000003  0.000003   \n",
      "\n",
      "                                                        f506      f507  \\\n",
      "imageName                                                                \n",
      "S2B_MSIL2A_20181024T102059_N0209_R065_T32TLQ_20...  0.000003  0.000003   \n",
      "S2B_MSIL2A_20181024T102059_N0209_R065_T32TLQ_20...  0.000003  0.000003   \n",
      "S2B_MSIL2A_20181024T102059_N0209_R065_T32TLQ_20...  0.000003  0.000003   \n",
      "S2B_MSIL2A_20181024T102059_N0209_R065_T32TLQ_20...  0.000003  0.000003   \n",
      "S2B_MSIL2A_20181024T102059_N0209_R065_T32TLQ_20...  0.000003  0.000003   \n",
      "\n",
      "                                                        f508      f509  \\\n",
      "imageName                                                                \n",
      "S2B_MSIL2A_20181024T102059_N0209_R065_T32TLQ_20...  0.000003  0.000003   \n",
      "S2B_MSIL2A_20181024T102059_N0209_R065_T32TLQ_20...  0.000003  0.000003   \n",
      "S2B_MSIL2A_20181024T102059_N0209_R065_T32TLQ_20...  0.000003  0.000003   \n",
      "S2B_MSIL2A_20181024T102059_N0209_R065_T32TLQ_20...  0.000003  0.000003   \n",
      "S2B_MSIL2A_20181024T102059_N0209_R065_T32TLQ_20...  0.000003  0.000003   \n",
      "\n",
      "                                                        f510      f511  \n",
      "imageName                                                               \n",
      "S2B_MSIL2A_20181024T102059_N0209_R065_T32TLQ_20...  0.000003  0.000003  \n",
      "S2B_MSIL2A_20181024T102059_N0209_R065_T32TLQ_20...  0.000003  0.000003  \n",
      "S2B_MSIL2A_20181024T102059_N0209_R065_T32TLQ_20...  0.000003  0.000003  \n",
      "S2B_MSIL2A_20181024T102059_N0209_R065_T32TLQ_20...  0.000003  0.000003  \n",
      "S2B_MSIL2A_20181024T102059_N0209_R065_T32TLQ_20...  0.000003  0.000003  \n",
      "\n",
      "[5 rows x 512 columns]\n",
      "[[-0.51884974  0.34343769  0.04536953 ...  0.          0.\n",
      "   0.        ]\n",
      " [ 1.29507739 -0.3614317  -0.20590345 ...  0.          0.\n",
      "   0.        ]\n",
      " [ 2.1646349   0.05334628 -1.07255282 ...  0.          0.\n",
      "   0.        ]\n",
      " ...\n",
      " [-1.02725305 -0.80764652 -0.27136899 ...  0.          0.\n",
      "   0.        ]\n",
      " [-0.57590137  1.29250399  0.06826476 ...  0.          0.\n",
      "   0.        ]\n",
      " [ 1.04512974  0.5426481   0.35480915 ...  0.          0.\n",
      "   0.        ]]\n",
      "                                              imageName         0         1  \\\n",
      "0     S2B_MSIL2A_20181024T102059_N0209_R065_T32TLQ_2... -0.518850  0.343438   \n",
      "1     S2B_MSIL2A_20181024T102059_N0209_R065_T32TLQ_2...  1.295077 -0.361432   \n",
      "2     S2B_MSIL2A_20181024T102059_N0209_R065_T32TLQ_2...  2.164635  0.053346   \n",
      "3     S2B_MSIL2A_20181024T102059_N0209_R065_T32TLQ_2...  1.371059  1.251669   \n",
      "4     S2B_MSIL2A_20181024T102059_N0209_R065_T32TLQ_2... -0.057109  0.926159   \n",
      "...                                                 ...       ...       ...   \n",
      "8411  S2A_MSIL2A_20181023T100051_N0209_R122_T32TQM_2...  2.352650  1.926589   \n",
      "8412  S2A_MSIL2A_20181023T100051_N0209_R122_T32TQM_2...  1.023551  1.247911   \n",
      "8413  S2A_MSIL2A_20181023T100051_N0209_R122_T32TQM_2... -1.027253 -0.807647   \n",
      "8414  S2A_MSIL2A_20181023T100051_N0209_R122_T32TQM_2... -0.575901  1.292504   \n",
      "8415  S2A_MSIL2A_20181023T100051_N0209_R122_T32TQM_2...  1.045130  0.542648   \n",
      "\n",
      "             2         3         4         5         6         7         8  \\\n",
      "0     0.045370 -0.013739  0.978389 -0.113736  1.320901  0.946056  0.866884   \n",
      "1    -0.205903  0.357114  0.416523 -0.668079 -1.277364 -0.768723 -1.323483   \n",
      "2    -1.072553  0.212948  0.757485 -0.674717 -0.695798  0.273456  1.334859   \n",
      "3    -0.309800 -0.210960  0.764693  1.903537  0.106772 -0.079783  0.732755   \n",
      "4     0.607576  0.548365 -0.286550 -0.149832 -0.153651  0.117402 -0.180901   \n",
      "...        ...       ...       ...       ...       ...       ...       ...   \n",
      "8411  0.549688 -0.534885  0.099703  0.513161  1.033698  1.444539  2.140838   \n",
      "8412  0.533244 -0.883604 -0.193375 -2.135319 -1.535656 -1.711751 -0.272872   \n",
      "8413 -0.271369  0.499430 -0.834042 -0.530876  0.160908  0.185430 -0.602904   \n",
      "8414  0.068265  0.385770  1.269620 -1.071184 -0.916452 -0.425324  0.632806   \n",
      "8415  0.354809  0.210163  0.149161  0.738364  0.702207 -0.222520 -0.003153   \n",
      "\n",
      "      ...  502  503  504  505  506  507  508  509  510  511  \n",
      "0     ...  0.0  0.0  0.0  0.0  0.0  0.0  0.0  0.0  0.0  0.0  \n",
      "1     ...  0.0  0.0  0.0  0.0  0.0  0.0  0.0  0.0  0.0  0.0  \n",
      "2     ...  0.0  0.0  0.0  0.0  0.0  0.0  0.0  0.0  0.0  0.0  \n",
      "3     ...  0.0  0.0  0.0  0.0  0.0  0.0  0.0  0.0  0.0  0.0  \n",
      "4     ...  0.0  0.0  0.0  0.0  0.0  0.0  0.0  0.0  0.0  0.0  \n",
      "...   ...  ...  ...  ...  ...  ...  ...  ...  ...  ...  ...  \n",
      "8411  ...  0.0  0.0  0.0  0.0  0.0  0.0  0.0  0.0  0.0  0.0  \n",
      "8412  ...  0.0  0.0  0.0  0.0  0.0  0.0  0.0  0.0  0.0  0.0  \n",
      "8413  ...  0.0  0.0  0.0  0.0  0.0  0.0  0.0  0.0  0.0  0.0  \n",
      "8414  ...  0.0  0.0  0.0  0.0  0.0  0.0  0.0  0.0  0.0  0.0  \n",
      "8415  ...  0.0  0.0  0.0  0.0  0.0  0.0  0.0  0.0  0.0  0.0  \n",
      "\n",
      "[8416 rows x 513 columns]\n"
     ]
    }
   ],
   "source": [
    "resnet_features = Italy_features\n",
    "n_components = 64\n",
    "from sklearn.decomposition import PCA\n",
    "from sklearn.preprocessing import StandardScaler\n",
    "\n",
    "n_features = len(resnet_features.loc[0, 'feature'])\n",
    "resnet_features = resnet_features.set_index(\"imageName\")\n",
    "\n",
    "rf = resnet_features.copy()\n",
    "\n",
    "rf[['f'+str(i) for i in range(n_features)]] = \\\n",
    "\tpd.DataFrame(rf.feature.values.tolist(), \\\n",
    "\tindex= rf.index)\n",
    "\n",
    "rf = rf.drop(columns=['feature'])\n",
    "print (rf.head())\n",
    "\n",
    "standardized_features = StandardScaler().fit_transform(rf)\n",
    "print (standardized_features)\n",
    "\n",
    "standardized_features_df = pd.DataFrame(standardized_features)\n",
    "\n",
    "rf=rf.reset_index()\n",
    "\n",
    "resnet_features_standardized = pd.concat([ rf[\"imageName\"], standardized_features_df], axis = 1)\n",
    "\n",
    "print (resnet_features_standardized)\n",
    "\n",
    "resnet_features_standardized = resnet_features_standardized.set_index(\"imageName\")"
   ]
  },
  {
   "cell_type": "code",
   "execution_count": 35,
   "metadata": {
    "ExecuteTime": {
     "end_time": "2020-05-25T08:27:31.394065Z",
     "start_time": "2020-05-25T08:27:29.351198Z"
    }
   },
   "outputs": [
    {
     "name": "stdout",
     "output_type": "stream",
     "text": [
      "[0.08300846 0.04985344 0.01891969 0.0173117  0.01516723 0.013925\n",
      " 0.01213786 0.01166777 0.01104124 0.01035967 0.00992798 0.00938509\n",
      " 0.00897746 0.00858681 0.00841796 0.00811276 0.00771045 0.00756677\n",
      " 0.00742781 0.00719831 0.00705638 0.00684192 0.00680927 0.00662786\n",
      " 0.00651596 0.00644367 0.00621861 0.00612057 0.00584784 0.00581191\n",
      " 0.00569184 0.00558534 0.00555185 0.00545425 0.0053526  0.00531432\n",
      " 0.00520004 0.00508838 0.00502362 0.00495001 0.00479019 0.00473687\n",
      " 0.00469373 0.00460349 0.00452036 0.00447013 0.00441966 0.00435518\n",
      " 0.00429058 0.00420285 0.00411058 0.00400433 0.00398452 0.00393629\n",
      " 0.00389925 0.0038712  0.00379343 0.00368241 0.00365562 0.0036188\n",
      " 0.00356699 0.00352459 0.00344641 0.00341582]\n",
      "0.5418029358248573 64\n"
     ]
    }
   ],
   "source": [
    "pca = PCA(n_components=n_components)\n",
    "pca.fit(resnet_features_standardized)\n",
    "\n",
    "pca_df = pd.DataFrame(pca.transform(resnet_features_standardized), \\\n",
    "\tcolumns=['PCA%i' % i for i in range(n_components)],\\\n",
    "\tindex=resnet_features_standardized.index)\n",
    "\n",
    "print (pca.explained_variance_ratio_)\n",
    "print (sum(pca.explained_variance_ratio_), len(pca.explained_variance_ratio_))\n"
   ]
  },
  {
   "cell_type": "code",
   "execution_count": null,
   "metadata": {},
   "outputs": [],
   "source": []
  }
 ],
 "metadata": {
  "kernelspec": {
   "display_name": "Python [conda env:root] *",
   "language": "python",
   "name": "conda-root-py"
  },
  "language_info": {
   "codemirror_mode": {
    "name": "ipython",
    "version": 3
   },
   "file_extension": ".py",
   "mimetype": "text/x-python",
   "name": "python",
   "nbconvert_exporter": "python",
   "pygments_lexer": "ipython3",
   "version": "3.7.0"
  }
 },
 "nbformat": 4,
 "nbformat_minor": 2
}
