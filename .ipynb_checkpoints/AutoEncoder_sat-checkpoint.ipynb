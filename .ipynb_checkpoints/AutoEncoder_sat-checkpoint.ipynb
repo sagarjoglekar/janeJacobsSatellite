{
 "cells": [
  {
   "cell_type": "code",
   "execution_count": 1,
   "metadata": {
    "ExecuteTime": {
     "end_time": "2020-05-24T23:31:16.361108Z",
     "start_time": "2020-05-24T23:31:15.942367Z"
    }
   },
   "outputs": [],
   "source": [
    "import matplotlib.pyplot as plt\n",
    "import numpy as np\n",
    "from PIL import Image\n",
    "import torch\n",
    "import torch.nn as nn\n",
    "import torch.optim as optim\n",
    "import torchvision\n",
    "%matplotlib inline\n",
    "import torchvision.transforms as transforms\n",
    "from torchvision.utils import save_image\n",
    "from torch.utils.data import Dataset, DataLoader\n",
    "from tqdm import tqdm\n",
    "from torch.autograd import Variable\n",
    "import os"
   ]
  },
  {
   "cell_type": "code",
   "execution_count": 2,
   "metadata": {
    "ExecuteTime": {
     "end_time": "2020-05-24T23:31:16.367573Z",
     "start_time": "2020-05-24T23:31:16.362946Z"
    }
   },
   "outputs": [],
   "source": [
    "seed = 42\n",
    "torch.manual_seed(seed)\n",
    "torch.backends.cudnn.benchmark = False\n",
    "torch.backends.cudnn.deterministic = True\n",
    "batch_size = 128\n",
    "epochs = 300\n",
    "learning_rate = 0.001"
   ]
  },
  {
   "cell_type": "code",
   "execution_count": 3,
   "metadata": {
    "ExecuteTime": {
     "end_time": "2020-05-24T23:31:16.717583Z",
     "start_time": "2020-05-24T23:31:16.714432Z"
    }
   },
   "outputs": [],
   "source": [
    "if not os.path.exists('./dc_img'):\n",
    "    os.mkdir('./dc_img')"
   ]
  },
  {
   "cell_type": "code",
   "execution_count": 4,
   "metadata": {
    "ExecuteTime": {
     "end_time": "2020-05-24T23:31:17.136094Z",
     "start_time": "2020-05-24T23:31:17.132133Z"
    }
   },
   "outputs": [],
   "source": [
    "\n",
    "\n",
    "\n",
    "def load_dataset():\n",
    "    data_path = '/datasets_1/sagarj/satellite/training_6_cities/'\n",
    "    train_dataset = torchvision.datasets.ImageFolder(\n",
    "        root=data_path,\n",
    "        transform=transforms.Compose([\n",
    "        transforms.Resize((64,64)),\n",
    "        transforms.ToTensor(),\n",
    "    ])\n",
    "    )\n",
    "    train_loader = torch.utils.data.DataLoader(\n",
    "        train_dataset,\n",
    "        batch_size=batch_size,\n",
    "        num_workers=0,\n",
    "        shuffle=True\n",
    "    )\n",
    "    return train_loader"
   ]
  },
  {
   "cell_type": "code",
   "execution_count": 5,
   "metadata": {
    "ExecuteTime": {
     "end_time": "2020-05-24T23:31:18.501939Z",
     "start_time": "2020-05-24T23:31:18.498381Z"
    }
   },
   "outputs": [],
   "source": [
    "def to_img(x):\n",
    "    x = x.view(x.size(0), 3, 64, 64)\n",
    "    return x"
   ]
  },
  {
   "cell_type": "code",
   "execution_count": 6,
   "metadata": {
    "ExecuteTime": {
     "end_time": "2020-05-24T23:31:19.306597Z",
     "start_time": "2020-05-24T23:31:19.232198Z"
    }
   },
   "outputs": [],
   "source": [
    "class autoencoder(nn.Module):\n",
    "    def __init__(self):\n",
    "        super(autoencoder, self).__init__()\n",
    "        \n",
    "        self.encoder = nn.Sequential( # like the Composition layer you built\n",
    "            nn.Conv2d(3, 16, 5, stride=1, padding=1),\n",
    "            nn.ReLU(),\n",
    "            nn.MaxPool2d(2, stride=1),\n",
    "            nn.BatchNorm2d(16),\n",
    "            \n",
    "            nn.Conv2d(16, 32, 7, stride=1, padding=1),\n",
    "            nn.ReLU(),\n",
    "            nn.MaxPool2d(2, stride=1),\n",
    "            nn.BatchNorm2d(32),\n",
    "            \n",
    "            nn.Conv2d(32, 32, 7,stride=2,padding=1),\n",
    "            nn.ReLU(),\n",
    "            nn.BatchNorm2d(32),\n",
    "            nn.MaxPool2d(2, stride=1),\n",
    "            \n",
    "            nn.Conv2d(32, 32, 9,stride=2,padding=1),\n",
    "            nn.ReLU(),\n",
    "            nn.BatchNorm2d(32),\n",
    "            \n",
    "            nn.Conv2d(32, 16, 9,stride=1,padding=1),\n",
    "            nn.ReLU(),\n",
    "            nn.BatchNorm2d(16)\n",
    "        )\n",
    "        self.decoder = nn.Sequential(\n",
    "            nn.ConvTranspose2d(16, 32, 9,stride=1,padding=1),\n",
    "            nn.ReLU(),\n",
    "            nn.ConvTranspose2d(32, 32, 9,stride=2,padding=1,output_padding=1),\n",
    "            nn.ReLU(),\n",
    "            nn.ConvTranspose2d(32, 32, 7,stride=2,padding=1,output_padding=1),\n",
    "            nn.ReLU(),\n",
    "            nn.ConvTranspose2d(32, 16, 7, stride=1, padding=1),\n",
    "            nn.ReLU(),\n",
    "            nn.ConvTranspose2d(16, 3, 5, stride=1, padding=0),\n",
    "            nn.Sigmoid()\n",
    "        )\n",
    "        \n",
    "#         self.encoder_fc = nn.Sequential(#a set of FC layers\n",
    "#             nn.Linear(batch_size*64*10*10, 512),\n",
    "#             nn.ReLU(True),\n",
    "#         )\n",
    "        \n",
    "#         self.decoder_fc = nn.Sequential(\n",
    "#             nn.Linear(512,batch_size*64*10*10),\n",
    "#             nn.ReLU(True),\n",
    "#         )\n",
    "        \n",
    "       \n",
    "\n",
    "    def forward(self, x , compressed = False):\n",
    "        #encode\n",
    "        x_comp = self.encoder(x) \n",
    "#         shape = x_comp.shape\n",
    "#         x_comp = self.encoder_fc(x_comp.flatten())\n",
    "#         print(x_comp.size())\n",
    "        #decode\n",
    "#         x_recon = self.decoder_fc(x_comp)\n",
    "#         x_recon = x_recon.reshape(shape)\n",
    "        x_recon = self.decoder(x_comp)\n",
    "#         print(x_recon.size())\n",
    "        \n",
    "        if compressed:\n",
    "            return x_comp.detach() , x_recon\n",
    "        else:\n",
    "            return x_recon"
   ]
  },
  {
   "cell_type": "code",
   "execution_count": 7,
   "metadata": {
    "ExecuteTime": {
     "end_time": "2020-05-24T23:31:23.232776Z",
     "start_time": "2020-05-24T23:31:19.838054Z"
    }
   },
   "outputs": [],
   "source": [
    "model = autoencoder().cuda()\n",
    "criterion = nn.MSELoss()\n",
    "# criterion = nn.CrossEntropyLoss()\n",
    "optimizer = torch.optim.Adam(model.parameters(), lr=learning_rate, weight_decay=1e-4)"
   ]
  },
  {
   "cell_type": "code",
   "execution_count": 8,
   "metadata": {
    "ExecuteTime": {
     "end_time": "2020-05-24T23:31:29.616731Z",
     "start_time": "2020-05-24T23:31:29.560078Z"
    }
   },
   "outputs": [],
   "source": [
    "dataloader = load_dataset()"
   ]
  },
  {
   "cell_type": "code",
   "execution_count": 9,
   "metadata": {
    "ExecuteTime": {
     "end_time": "2020-05-24T23:31:30.406765Z",
     "start_time": "2020-05-24T23:31:30.404455Z"
    }
   },
   "outputs": [],
   "source": [
    "# dataloader.sampler.data_source.samples"
   ]
  },
  {
   "cell_type": "code",
   "execution_count": 10,
   "metadata": {
    "ExecuteTime": {
     "end_time": "2020-05-24T23:31:32.677706Z",
     "start_time": "2020-05-24T23:31:32.462389Z"
    }
   },
   "outputs": [
    {
     "name": "stdout",
     "output_type": "stream",
     "text": [
      "<PIL.JpegImagePlugin.JpegImageFile image mode=RGB size=64x64 at 0x7F1768605710>\n"
     ]
    },
    {
     "data": {
      "image/png": "[encoded data removed]",
      "text/plain": [
       "<Figure size 432x288 with 1 Axes>"
      ]
     },
     "metadata": {
      "needs_background": "light"
     },
     "output_type": "display_data"
    }
   ],
   "source": [
    "len(dataloader.dataset)\n",
    "with open(dataloader.sampler.data_source.samples[1][0], 'rb') as f:\n",
    "    img = Image.open(f)\n",
    "    plt.grid()\n",
    "    plt.imshow(img)\n",
    "    print(img)"
   ]
  },
  {
   "cell_type": "code",
   "execution_count": null,
   "metadata": {
    "ExecuteTime": {
     "start_time": "2020-05-24T23:31:37.495Z"
    }
   },
   "outputs": [
    {
     "name": "stdout",
     "output_type": "stream",
     "text": [
      "epoch [1/300], loss:0.0462\n",
      "epoch [2/300], loss:0.0389\n",
      "epoch [3/300], loss:0.0409\n",
      "epoch [4/300], loss:0.0289\n",
      "epoch [5/300], loss:0.0325\n",
      "epoch [6/300], loss:0.0292\n",
      "epoch [7/300], loss:0.0257\n",
      "epoch [8/300], loss:0.0288\n",
      "epoch [9/300], loss:0.0267\n",
      "epoch [10/300], loss:0.0250\n",
      "epoch [11/300], loss:0.0249\n",
      "epoch [12/300], loss:0.0230\n",
      "epoch [13/300], loss:0.0237\n",
      "epoch [14/300], loss:0.0261\n",
      "epoch [15/300], loss:0.0219\n",
      "epoch [16/300], loss:0.0212\n",
      "epoch [17/300], loss:0.0234\n",
      "epoch [18/300], loss:0.0233\n",
      "epoch [19/300], loss:0.0236\n",
      "epoch [20/300], loss:0.0204\n",
      "epoch [21/300], loss:0.0225\n",
      "epoch [22/300], loss:0.0210\n",
      "epoch [23/300], loss:0.0209\n",
      "epoch [24/300], loss:0.0204\n",
      "epoch [25/300], loss:0.0193\n",
      "epoch [26/300], loss:0.0194\n",
      "epoch [27/300], loss:0.0209\n",
      "epoch [28/300], loss:0.0200\n",
      "epoch [29/300], loss:0.0200\n",
      "epoch [30/300], loss:0.0222\n",
      "epoch [31/300], loss:0.0197\n",
      "epoch [32/300], loss:0.0178\n",
      "epoch [33/300], loss:0.0180\n",
      "epoch [34/300], loss:0.0181\n",
      "epoch [35/300], loss:0.0185\n",
      "epoch [36/300], loss:0.0193\n",
      "epoch [37/300], loss:0.0184\n",
      "epoch [38/300], loss:0.0186\n",
      "epoch [39/300], loss:0.0188\n",
      "epoch [40/300], loss:0.0199\n",
      "epoch [41/300], loss:0.0198\n",
      "epoch [42/300], loss:0.0189\n",
      "epoch [43/300], loss:0.0191\n",
      "epoch [44/300], loss:0.0220\n",
      "epoch [45/300], loss:0.0187\n",
      "epoch [46/300], loss:0.0211\n",
      "epoch [47/300], loss:0.0183\n",
      "epoch [48/300], loss:0.0182\n",
      "epoch [49/300], loss:0.0192\n",
      "epoch [50/300], loss:0.0182\n",
      "epoch [51/300], loss:0.0187\n",
      "epoch [52/300], loss:0.0188\n",
      "epoch [53/300], loss:0.0190\n",
      "epoch [54/300], loss:0.0182\n",
      "epoch [55/300], loss:0.0173\n",
      "epoch [56/300], loss:0.0176\n",
      "epoch [57/300], loss:0.0165\n",
      "epoch [58/300], loss:0.0185\n",
      "epoch [59/300], loss:0.0179\n",
      "epoch [60/300], loss:0.0193\n",
      "epoch [61/300], loss:0.0183\n",
      "epoch [62/300], loss:0.0162\n",
      "epoch [63/300], loss:0.0159\n",
      "epoch [64/300], loss:0.0166\n",
      "epoch [65/300], loss:0.0173\n",
      "epoch [66/300], loss:0.0164\n",
      "epoch [67/300], loss:0.0179\n",
      "epoch [68/300], loss:0.0190\n",
      "epoch [69/300], loss:0.0180\n",
      "epoch [70/300], loss:0.0175\n",
      "epoch [71/300], loss:0.0186\n",
      "epoch [72/300], loss:0.0161\n",
      "epoch [73/300], loss:0.0185\n",
      "epoch [74/300], loss:0.0203\n",
      "epoch [75/300], loss:0.0172\n",
      "epoch [76/300], loss:0.0180\n",
      "epoch [77/300], loss:0.0167\n",
      "epoch [78/300], loss:0.0182\n",
      "epoch [79/300], loss:0.0159\n",
      "epoch [80/300], loss:0.0188\n",
      "epoch [81/300], loss:0.0192\n",
      "epoch [82/300], loss:0.0167\n",
      "epoch [83/300], loss:0.0160\n",
      "epoch [84/300], loss:0.0192\n",
      "epoch [85/300], loss:0.0216\n",
      "epoch [86/300], loss:0.0185\n",
      "epoch [87/300], loss:0.0173\n",
      "epoch [88/300], loss:0.0178\n",
      "epoch [89/300], loss:0.0185\n",
      "epoch [90/300], loss:0.0155\n",
      "epoch [91/300], loss:0.0187\n",
      "epoch [92/300], loss:0.0191\n",
      "epoch [93/300], loss:0.0179\n",
      "epoch [94/300], loss:0.0195\n",
      "epoch [95/300], loss:0.0180\n",
      "epoch [96/300], loss:0.0180\n",
      "epoch [97/300], loss:0.0184\n",
      "epoch [98/300], loss:0.0170\n",
      "epoch [99/300], loss:0.0173\n",
      "epoch [100/300], loss:0.0188\n"
     ]
    }
   ],
   "source": [
    "for epoch in range(epochs):\n",
    "    for data in dataloader:\n",
    "        img, _ = data\n",
    "        img = Variable(img).cuda()\n",
    "#         print(img.shape)\n",
    "        # ===================forward=====================\n",
    "        output = model(img)\n",
    "        loss = criterion(output, img)\n",
    "        # ===================backward====================\n",
    "        optimizer.zero_grad()\n",
    "        loss.backward()\n",
    "        optimizer.step()\n",
    "    # ===================log========================\n",
    "    print('epoch [{}/{}], loss:{:.4f}'\n",
    "          .format(epoch+1, epochs, loss.data))\n",
    "    if epoch % 10 == 0:\n",
    "        pic = to_img(output.cpu().data)\n",
    "        save_image(pic, './dc_img/image_{}.jpg'.format(epoch))"
   ]
  },
  {
   "cell_type": "code",
   "execution_count": null,
   "metadata": {
    "ExecuteTime": {
     "start_time": "2020-05-24T23:31:56.039Z"
    }
   },
   "outputs": [],
   "source": [
    "torch.save(model.state_dict(), './conv_autoencoder_trained_on_sentinel_small_1.pth')"
   ]
  },
  {
   "cell_type": "code",
   "execution_count": null,
   "metadata": {
    "ExecuteTime": {
     "end_time": "2020-05-24T23:10:25.437983Z",
     "start_time": "2020-05-24T23:10:25.427799Z"
    }
   },
   "outputs": [],
   "source": [
    "model.forward(img[0].unsqueeze(0)).cpu()"
   ]
  },
  {
   "cell_type": "code",
   "execution_count": null,
   "metadata": {
    "ExecuteTime": {
     "end_time": "2020-05-24T23:13:04.023054Z",
     "start_time": "2020-05-24T23:13:04.020580Z"
    }
   },
   "outputs": [],
   "source": [
    "# model = autoencoder().cuda()\n",
    "# model.load_state_dict(torch.load('./conv_autoencoder_trained_on_sentinel_small.pth'))\n",
    "# model.eval()"
   ]
  },
  {
   "cell_type": "code",
   "execution_count": null,
   "metadata": {
    "ExecuteTime": {
     "end_time": "2020-05-24T23:13:06.174934Z",
     "start_time": "2020-05-24T23:13:06.147088Z"
    }
   },
   "outputs": [],
   "source": [
    "from glob import glob\n",
    "Sat_Images = glob('/datasets_1/sagarj/satellite/training_6_cities/*/*.jpg')"
   ]
  },
  {
   "cell_type": "code",
   "execution_count": null,
   "metadata": {
    "ExecuteTime": {
     "end_time": "2020-05-24T23:13:30.470205Z",
     "start_time": "2020-05-24T23:13:10.847773Z"
    }
   },
   "outputs": [],
   "source": [
    "#Storage dictionary\n",
    "scaler = transforms.Resize((64, 64))\n",
    "to_tensor = transforms.ToTensor()\n",
    "features = {'imageName':[] , 'feature':[]}\n",
    "print(\"Extracting features from %d images\",len(Sat_Images))\n",
    "for i in tqdm(range(len(Sat_Images))):\n",
    "    name = Sat_Images[i].split('/')[-1]\n",
    "    img = Image.open(Sat_Images[i])  \n",
    "    t_img = Variable(to_tensor(scaler(img))).unsqueeze(0).cuda() \n",
    "    code , gen_X = model.forward(t_img , compressed = True)\n",
    "    \n",
    "    features['imageName'].append(name)\n",
    "    features['feature'].append(code.detach().cpu().numpy().squeeze().flatten())"
   ]
  },
  {
   "cell_type": "code",
   "execution_count": null,
   "metadata": {
    "ExecuteTime": {
     "end_time": "2020-05-24T23:13:30.477288Z",
     "start_time": "2020-05-24T23:13:30.471481Z"
    }
   },
   "outputs": [],
   "source": [
    "import pandas as pd \n",
    "Italy_features = pd.DataFrame.from_dict(features)"
   ]
  },
  {
   "cell_type": "code",
   "execution_count": null,
   "metadata": {
    "ExecuteTime": {
     "end_time": "2020-05-24T23:13:30.488377Z",
     "start_time": "2020-05-24T23:13:30.478557Z"
    }
   },
   "outputs": [],
   "source": [
    "len(Italy_features.iloc[1]['feature'])"
   ]
  },
  {
   "cell_type": "code",
   "execution_count": null,
   "metadata": {
    "ExecuteTime": {
     "end_time": "2020-05-24T23:13:34.444351Z",
     "start_time": "2020-05-24T23:13:34.414302Z"
    }
   },
   "outputs": [],
   "source": [
    "Italy_features"
   ]
  },
  {
   "cell_type": "code",
   "execution_count": null,
   "metadata": {
    "ExecuteTime": {
     "end_time": "2020-05-24T23:13:54.377635Z",
     "start_time": "2020-05-24T23:13:52.381781Z"
    }
   },
   "outputs": [],
   "source": [
    "Italy_features.to_json('/datasets_1/sagarj/satellite/6cities_AEC_256_flattened.json')"
   ]
  },
  {
   "cell_type": "code",
   "execution_count": null,
   "metadata": {
    "ExecuteTime": {
     "end_time": "2020-05-24T23:14:05.625713Z",
     "start_time": "2020-05-24T23:14:02.850079Z"
    }
   },
   "outputs": [],
   "source": [
    "resnet_features = Italy_features\n",
    "n_components = 64\n",
    "from sklearn.decomposition import PCA\n",
    "from sklearn.preprocessing import StandardScaler\n",
    "\n",
    "n_features = len(resnet_features.loc[0, 'feature'])\n",
    "resnet_features = resnet_features.set_index(\"imageName\")\n",
    "\n",
    "rf = resnet_features.copy()\n",
    "\n",
    "rf[['f'+str(i) for i in range(n_features)]] = \\\n",
    "\tpd.DataFrame(rf.feature.values.tolist(), \\\n",
    "\tindex= rf.index)\n",
    "\n",
    "rf = rf.drop(columns=['feature'])\n",
    "print (rf.head())\n",
    "\n",
    "standardized_features = StandardScaler().fit_transform(rf)\n",
    "print (standardized_features)\n",
    "\n",
    "standardized_features_df = pd.DataFrame(standardized_features)\n",
    "\n",
    "rf=rf.reset_index()\n",
    "\n",
    "resnet_features_standardized = pd.concat([ rf[\"imageName\"], standardized_features_df], axis = 1)\n",
    "\n",
    "print (resnet_features_standardized)\n",
    "\n",
    "resnet_features_standardized = resnet_features_standardized.set_index(\"imageName\")"
   ]
  },
  {
   "cell_type": "code",
   "execution_count": null,
   "metadata": {
    "ExecuteTime": {
     "end_time": "2020-05-24T23:14:11.602852Z",
     "start_time": "2020-05-24T23:14:10.440741Z"
    }
   },
   "outputs": [],
   "source": [
    "pca = PCA(n_components=n_components)\n",
    "pca.fit(resnet_features_standardized)\n",
    "\n",
    "pca_df = pd.DataFrame(pca.transform(resnet_features_standardized), \\\n",
    "\tcolumns=['PCA%i' % i for i in range(n_components)],\\\n",
    "\tindex=resnet_features_standardized.index)\n",
    "\n",
    "print (pca.explained_variance_ratio_)\n",
    "print (sum(pca.explained_variance_ratio_), len(pca.explained_variance_ratio_))\n"
   ]
  },
  {
   "cell_type": "code",
   "execution_count": null,
   "metadata": {},
   "outputs": [],
   "source": []
  }
 ],
 "metadata": {
  "kernelspec": {
   "display_name": "Python [conda env:root] *",
   "language": "python",
   "name": "conda-root-py"
  },
  "language_info": {
   "codemirror_mode": {
    "name": "ipython",
    "version": 3
   },
   "file_extension": ".py",
   "mimetype": "text/x-python",
   "name": "python",
   "nbconvert_exporter": "python",
   "pygments_lexer": "ipython3",
   "version": "3.7.0"
  }
 },
 "nbformat": 4,
 "nbformat_minor": 2
}
